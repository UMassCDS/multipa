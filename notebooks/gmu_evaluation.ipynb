{
 "cells": [
  {
   "cell_type": "markdown",
   "metadata": {},
   "source": [
    "# GMU Evaluation Data\n",
    "This performs evaluation and comparison to gold standard for sentences from the [Speech Accent Archive](https://accent.gmu.edu). "
   ]
  },
  {
   "cell_type": "code",
   "execution_count": 1,
   "metadata": {},
   "outputs": [
    {
     "name": "stderr",
     "output_type": "stream",
     "text": [
      "/work/pi_vcpartridge_umass_edu/multipa/env_cuda124/lib/python3.11/site-packages/tqdm/auto.py:21: TqdmWarning: IProgress not found. Please update jupyter and ipywidgets. See https://ipywidgets.readthedocs.io/en/stable/user_install.html\n",
      "  from .autonotebook import tqdm as notebook_tqdm\n",
      "Using the latest cached version of the module from /home/vcpartridge_umass_edu/.cache/huggingface/modules/evaluate_modules/metrics/ginic--phone_errors/6e56791b592b56908011d38628c25fd7a753442e543c55e5cade54bc2f1ee58d (last modified on Tue Nov 19 03:45:59 2024) since it couldn't be found locally at ginic--phone_errors, or remotely on the Hugging Face Hub.\n"
     ]
    }
   ],
   "source": [
    "from pathlib import Path\n",
    "\n",
    "from datasets import load_dataset, Audio, Dataset\n",
    "import pandas as pd\n",
    "from transformers import pipeline\n",
    "\n",
    "import multipa\n",
    "import multipa.data_utils\n",
    "import multipa.evaluate\n",
    "\n",
    "device = \"cuda\"\n",
    "\n",
    "gmu_data_dir = Path(\"../data/gmu\")\n",
    "transcriptions_path = Path(gmu_data_dir) / \"gold_transcriptions.csv\"\n",
    "# Column headers for transcriptions csv file\n",
    "gmu_mod = \"GMU MOD\"\n",
    "gmu_og = \"GMU OG\"\n",
    "\n",
    "\n",
    "our_model = \"ginic/data_seed_bs64_4_wav2vec2-large-xlsr-53-buckeye-ipa\"\n",
    "taguchi_2k = \"/home/vcpartridge_umass_edu/.cache/huggingface/hub/models--ctaguchi--wav2vec2-large-xlsr-japlmthufielta-ipa-plus-2000/snapshots/92cfe1211b01f9026ffca191c84ce06161926f45\"\n",
    "taguchi_1k = \"ctaguchi/wav2vec2-large-xlsr-japlmthufielta-ipa1000-ns\""
   ]
  },
  {
   "cell_type": "code",
   "execution_count": 2,
   "metadata": {},
   "outputs": [
    {
     "name": "stdout",
     "output_type": "stream",
     "text": [
      "Total wav files: 66\n"
     ]
    }
   ],
   "source": [
    "gmu_wavs = list(gmu_data_dir.glob(\"*.wav\"))\n",
    "print(\"Total wav files:\", len(gmu_wavs))"
   ]
  },
  {
   "cell_type": "code",
   "execution_count": 3,
   "metadata": {},
   "outputs": [],
   "source": [
    "def add_filename(dataset_entry):\n",
    "    filename = Path(dataset_entry[\"audio\"][\"path\"]).name\n",
    "    dataset_entry[\"filename\"] = filename\n",
    "    return dataset_entry"
   ]
  },
  {
   "cell_type": "code",
   "execution_count": 4,
   "metadata": {},
   "outputs": [
    {
     "name": "stderr",
     "output_type": "stream",
     "text": [
      "Resolving data files: 100%|██████████| 67/67 [00:00<00:00, 101340.92it/s]\n",
      "Using custom data configuration default-375cfec279f10a6d\n",
      "Found cached dataset audiofolder (/home/vcpartridge_umass_edu/.cache/huggingface/datasets/audiofolder/default-375cfec279f10a6d/0.0.0/6cbdd16f8688354c63b4e2a36e1585d05de285023ee6443ffd71c4182055c0fc)\n",
      "100%|██████████| 1/1 [00:00<00:00, 167.04it/s]\n",
      "Loading cached processed dataset at /home/vcpartridge_umass_edu/.cache/huggingface/datasets/audiofolder/default-375cfec279f10a6d/0.0.0/6cbdd16f8688354c63b4e2a36e1585d05de285023ee6443ffd71c4182055c0fc/cache-4e514f8397b03833.arrow\n"
     ]
    },
    {
     "name": "stdout",
     "output_type": "stream",
     "text": [
      "Length audio dataset: 66\n",
      "First audio file: {'audio': {'path': None, 'array': array([-0.00402832, -0.00717163, -0.00552368, ..., -0.00326538,\n",
      "       -0.00241089,  0.        ]), 'sampling_rate': 16000}, 'filename': 'finnish1.wav'}\n",
      "Running ginic/data_seed_bs64_4_wav2vec2-large-xlsr-53-buckeye-ipa\n",
      "{'text': 'plizkolstɪlʌæskhɹ̩tɪlpɹɪŋθizθɪŋzwizhɹ̩fɹʌmðɪstoʊlsikspunoʌfɹɪʃnoʊpisfaɪvθikstlɛpsʌflutʃisɛnmeɪbiɛʃnɛkfʊ̩hɹ̩bɹʌðɹ̩ʌbʌpwiɔlsoʊniɾɪsmɔlplɛsɪkneɪkɛmbiktɪljɪfoʊkfoʊldtʊkitʃʃikɪnskupθizθɪŋɪnθɹiɹɛdbɛksɛnwiwɪl̩ɡoʊmithɹ̩wɛnʃteɪæðɪtɹeɪnʃteɪʃʌn'}\n",
      "{'audio': {'path': None, 'array': array([-0.00402832, -0.00717163, -0.00552368, ..., -0.00326538,\n",
      "       -0.00241089,  0.        ]), 'sampling_rate': 16000}, 'filename': 'finnish1.wav', 'ginic/data_seed_bs64_4_wav2vec2-large-xlsr-53-buckeye-ipa': 'plizkolstɪlʌæskhɹ̩tɪlpɹɪŋθizθɪŋzwizhɹ̩fɹʌmðɪstoʊlsikspunoʌfɹɪʃnoʊpisfaɪvθikstlɛpsʌflutʃisɛnmeɪbiɛʃnɛkfʊ̩hɹ̩bɹʌðɹ̩ʌbʌpwiɔlsoʊniɾɪsmɔlplɛsɪkneɪkɛmbiktɪljɪfoʊkfoʊldtʊkitʃʃikɪnskupθizθɪŋɪnθɹiɹɛdbɛksɛnwiwɪl̩ɡoʊmithɹ̩wɛnʃteɪæðɪtɹeɪnʃteɪʃʌn'}\n",
      "Running ctaguchi/wav2vec2-large-xlsr-japlmthufielta-ipa1000-ns\n"
     ]
    },
    {
     "name": "stderr",
     "output_type": "stream",
     "text": [
      "/work/pi_vcpartridge_umass_edu/multipa/env_cuda124/lib/python3.11/site-packages/datasets/table.py:1393: FutureWarning: promote has been superseded by promote_options='default'.\n",
      "  return cls._concat_blocks(pa_tables_to_concat_vertically, axis=0)\n",
      "Some weights of the model checkpoint at ctaguchi/wav2vec2-large-xlsr-japlmthufielta-ipa1000-ns were not used when initializing Wav2Vec2ForCTC: ['wav2vec2.encoder.pos_conv_embed.conv.weight_g', 'wav2vec2.encoder.pos_conv_embed.conv.weight_v']\n",
      "- This IS expected if you are initializing Wav2Vec2ForCTC from the checkpoint of a model trained on another task or with another architecture (e.g. initializing a BertForSequenceClassification model from a BertForPreTraining model).\n",
      "- This IS NOT expected if you are initializing Wav2Vec2ForCTC from the checkpoint of a model that you expect to be exactly identical (initializing a BertForSequenceClassification model from a BertForSequenceClassification model).\n",
      "Some weights of Wav2Vec2ForCTC were not initialized from the model checkpoint at ctaguchi/wav2vec2-large-xlsr-japlmthufielta-ipa1000-ns and are newly initialized: ['wav2vec2.encoder.pos_conv_embed.conv.parametrizations.weight.original0', 'wav2vec2.encoder.pos_conv_embed.conv.parametrizations.weight.original1']\n",
      "You should probably TRAIN this model on a down-stream task to be able to use it for predictions and inference.\n"
     ]
    },
    {
     "name": "stdout",
     "output_type": "stream",
     "text": [
      "{'text': 'pliskɔːstɛwaɛskxɔrtɔpʂɨɲtɨjstŋxujtxɔrfɔndɛʂtɔsikspunɔfwɛʂnɔpxisfajvtɨikslajapsɔfluwt͡ʂizɛnmɛjbijɛʐnajɛɡfɔxɛbradɛrbabujɔlsɔnirɛsmɔwɔplasɨksnɛikɛmbɛjɡt͡sʂɔjfɔkɔtɔkirʂikɛnskuptɨjstiŋɡsint͡srɨjwɛdːɛɡsɛnwiwɨɡɛ̃wmitxɔwɛntʂtɛjɛtːɛtrɛ̃ɕtajʂɛ'}\n",
      "{'audio': {'path': None, 'array': array([-0.00402832, -0.00717163, -0.00552368, ..., -0.00326538,\n",
      "       -0.00241089,  0.        ]), 'sampling_rate': 16000}, 'filename': 'finnish1.wav', 'ginic/data_seed_bs64_4_wav2vec2-large-xlsr-53-buckeye-ipa': 'plizkolstɪlʌæskhɹ̩tɪlpɹɪŋθizθɪŋzwizhɹ̩fɹʌmðɪstoʊlsikspunoʌfɹɪʃnoʊpisfaɪvθikstlɛpsʌflutʃisɛnmeɪbiɛʃnɛkfʊ̩hɹ̩bɹʌðɹ̩ʌbʌpwiɔlsoʊniɾɪsmɔlplɛsɪkneɪkɛmbiktɪljɪfoʊkfoʊldtʊkitʃʃikɪnskupθizθɪŋɪnθɹiɹɛdbɛksɛnwiwɪl̩ɡoʊmithɹ̩wɛnʃteɪæðɪtɹeɪnʃteɪʃʌn', 'ctaguchi/wav2vec2-large-xlsr-japlmthufielta-ipa1000-ns': 'pliskɔːstɛwaɛskxɔrtɔpʂɨɲtɨjstŋxujtxɔrfɔndɛʂtɔsikspunɔfwɛʂnɔpxisfajvtɨikslajapsɔfluwt͡ʂizɛnmɛjbijɛʐnajɛɡfɔxɛbradɛrbabujɔlsɔnirɛsmɔwɔplasɨksnɛikɛmbɛjɡt͡sʂɔjfɔkɔtɔkirʂikɛnskuptɨjstiŋɡsint͡srɨjwɛdːɛɡsɛnwiwɨɡɛ̃wmitxɔwɛntʂtɛjɛtːɛtrɛ̃ɕtajʂɛ'}\n",
      "Running /home/vcpartridge_umass_edu/.cache/huggingface/hub/models--ctaguchi--wav2vec2-large-xlsr-japlmthufielta-ipa-plus-2000/snapshots/92cfe1211b01f9026ffca191c84ce06161926f45\n"
     ]
    },
    {
     "name": "stderr",
     "output_type": "stream",
     "text": [
      "Some weights of the model checkpoint at /home/vcpartridge_umass_edu/.cache/huggingface/hub/models--ctaguchi--wav2vec2-large-xlsr-japlmthufielta-ipa-plus-2000/snapshots/92cfe1211b01f9026ffca191c84ce06161926f45 were not used when initializing Wav2Vec2ForCTC: ['wav2vec2.encoder.pos_conv_embed.conv.weight_g', 'wav2vec2.encoder.pos_conv_embed.conv.weight_v']\n",
      "- This IS expected if you are initializing Wav2Vec2ForCTC from the checkpoint of a model trained on another task or with another architecture (e.g. initializing a BertForSequenceClassification model from a BertForPreTraining model).\n",
      "- This IS NOT expected if you are initializing Wav2Vec2ForCTC from the checkpoint of a model that you expect to be exactly identical (initializing a BertForSequenceClassification model from a BertForSequenceClassification model).\n",
      "Some weights of Wav2Vec2ForCTC were not initialized from the model checkpoint at /home/vcpartridge_umass_edu/.cache/huggingface/hub/models--ctaguchi--wav2vec2-large-xlsr-japlmthufielta-ipa-plus-2000/snapshots/92cfe1211b01f9026ffca191c84ce06161926f45 and are newly initialized: ['wav2vec2.encoder.pos_conv_embed.conv.parametrizations.weight.original0', 'wav2vec2.encoder.pos_conv_embed.conv.parametrizations.weight.original1']\n",
      "You should probably TRAIN this model on a down-stream task to be able to use it for predictions and inference.\n"
     ]
    },
    {
     "name": "stdout",
     "output_type": "stream",
     "text": [
      "{'text': 'pliskɔs tɛwa ɛskxartɔprɨŋtis tɨŋkswuj tʂɛr fɔmdɛstɔɔ sikspuwn ɔ fwɛʂ snɔwpis fajv tɨjk slapsɔv bluwt͡ʂiz ɛn mɛjvijɛʂnak fɔxɛr pradɛr bɔb ujɔlsɔ nidɛs mɔː plastɨksnɛkʲɛmbik t͡ʂɔjfɔk vɔt͡ʂɛkʲjtʂ xɕikʲɛn skuptɨj stɨŋks inθrujrɛt tɛks anwɨwɨ ɡɛw mitʂɛrwɛnt͡ʂt͡ʂɛj ɛz tɛ tʂɛ̃ʂtɛʂt͡ɕɛ'}\n",
      "{'audio': {'path': None, 'array': array([-0.00402832, -0.00717163, -0.00552368, ..., -0.00326538,\n",
      "       -0.00241089,  0.        ]), 'sampling_rate': 16000}, 'filename': 'finnish1.wav', 'ginic/data_seed_bs64_4_wav2vec2-large-xlsr-53-buckeye-ipa': 'plizkolstɪlʌæskhɹ̩tɪlpɹɪŋθizθɪŋzwizhɹ̩fɹʌmðɪstoʊlsikspunoʌfɹɪʃnoʊpisfaɪvθikstlɛpsʌflutʃisɛnmeɪbiɛʃnɛkfʊ̩hɹ̩bɹʌðɹ̩ʌbʌpwiɔlsoʊniɾɪsmɔlplɛsɪkneɪkɛmbiktɪljɪfoʊkfoʊldtʊkitʃʃikɪnskupθizθɪŋɪnθɹiɹɛdbɛksɛnwiwɪl̩ɡoʊmithɹ̩wɛnʃteɪæðɪtɹeɪnʃteɪʃʌn', 'ctaguchi/wav2vec2-large-xlsr-japlmthufielta-ipa1000-ns': 'pliskɔːstɛwaɛskxɔrtɔpʂɨɲtɨjstŋxujtxɔrfɔndɛʂtɔsikspunɔfwɛʂnɔpxisfajvtɨikslajapsɔfluwt͡ʂizɛnmɛjbijɛʐnajɛɡfɔxɛbradɛrbabujɔlsɔnirɛsmɔwɔplasɨksnɛikɛmbɛjɡt͡sʂɔjfɔkɔtɔkirʂikɛnskuptɨjstiŋɡsint͡srɨjwɛdːɛɡsɛnwiwɨɡɛ̃wmitxɔwɛntʂtɛjɛtːɛtrɛ̃ɕtajʂɛ', '/home/vcpartridge_umass_edu/.cache/huggingface/hub/models--ctaguchi--wav2vec2-large-xlsr-japlmthufielta-ipa-plus-2000/snapshots/92cfe1211b01f9026ffca191c84ce06161926f45': 'pliskɔstɛwaɛskxartɔprɨŋtistɨŋkswujtʂɛrfɔmdɛstɔɔsikspuwnɔfwɛʂsnɔwpisfajvtɨjkslapsɔvbluwt͡ʂizɛnmɛjvijɛʂnakfɔxɛrpradɛrbɔbujɔlsɔnidɛsmɔːplastɨksnɛkʲɛmbikt͡ʂɔjfɔkvɔt͡ʂɛkʲjtʂxɕikʲɛnskuptɨjstɨŋksinθrujrɛttɛksanwɨwɨɡɛwmitʂɛrwɛnt͡ʂt͡ʂɛjɛztɛtʂɛ̃ʂtɛʂt͡ɕɛ'}\n"
     ]
    }
   ],
   "source": [
    "# Read wavs as huggingface audio dataset\n",
    "audio_dataset = load_dataset(\"audiofolder\", data_dir = gmu_data_dir).cast_column(\"audio\", Audio(sampling_rate=16_000))[\"train\"]\n",
    "print(\"Length audio dataset:\", len(audio_dataset))\n",
    "\n",
    "audio_dataset = audio_dataset.map(add_filename)\n",
    "print(\"First audio file:\", audio_dataset[0])\n",
    "\n",
    "# Add predictions as new columns in dataset\n",
    "for model in [our_model, taguchi_1k, taguchi_2k]:\n",
    "    print(\"Running\", model)\n",
    "    pipe = pipeline(\"automatic-speech-recognition\", model=model, device=device)\n",
    "    transcriptions = pipe(audio_dataset[\"audio\"])\n",
    "    print(transcriptions[0])\n",
    "    transcriptions = [multipa.data_utils.clean_text(x, is_remove_space=True, text_key=\"text\")[\"text\"] for x in transcriptions]\n",
    "    audio_dataset = audio_dataset.add_column(name=model, column=transcriptions)\n",
    "    print(audio_dataset[0])"
   ]
  },
  {
   "cell_type": "code",
   "execution_count": 5,
   "metadata": {},
   "outputs": [
    {
     "data": {
      "text/html": [
       "<div>\n",
       "<style scoped>\n",
       "    .dataframe tbody tr th:only-of-type {\n",
       "        vertical-align: middle;\n",
       "    }\n",
       "\n",
       "    .dataframe tbody tr th {\n",
       "        vertical-align: top;\n",
       "    }\n",
       "\n",
       "    .dataframe thead th {\n",
       "        text-align: right;\n",
       "    }\n",
       "</style>\n",
       "<table border=\"1\" class=\"dataframe\">\n",
       "  <thead>\n",
       "    <tr style=\"text-align: right;\">\n",
       "      <th></th>\n",
       "      <th>audio</th>\n",
       "      <th>filename</th>\n",
       "      <th>ginic/data_seed_bs64_4_wav2vec2-large-xlsr-53-buckeye-ipa</th>\n",
       "      <th>ctaguchi/wav2vec2-large-xlsr-japlmthufielta-ipa1000-ns</th>\n",
       "      <th>ctaguchi/wav2vec2-large-xlsr-japlmthufielta-ipa-plus-2000</th>\n",
       "    </tr>\n",
       "  </thead>\n",
       "  <tbody>\n",
       "    <tr>\n",
       "      <th>0</th>\n",
       "      <td>{'bytes': b'RIFF\\xb6q\\x0c\\x00WAVEfmt \\x10\\x00\\...</td>\n",
       "      <td>finnish1.wav</td>\n",
       "      <td>plizkolstɪlʌæskhɹ̩tɪlpɹɪŋθizθɪŋzwizhɹ̩fɹʌmðɪst...</td>\n",
       "      <td>pliskɔːstɛwaɛskxɔrtɔpʂɨɲtɨjstŋxujtxɔrfɔndɛʂtɔs...</td>\n",
       "      <td>pliskɔstɛwaɛskxartɔprɨŋtistɨŋkswujtʂɛrfɔmdɛstɔ...</td>\n",
       "    </tr>\n",
       "    <tr>\n",
       "      <th>1</th>\n",
       "      <td>{'bytes': b'RIFF$\\xc4\\t\\x00WAVEfmt \\x10\\x00\\x0...</td>\n",
       "      <td>finnish2.wav</td>\n",
       "      <td>pliskuʊlstɪlʌæsɡoʌtʌbɹɪŋðisθɪŋzwɪtsoʊfʌmɪstoɹs...</td>\n",
       "      <td>plisɡɔɔfstɔwaaskøɛtbrindijɛstiɲɡzwitxɛlfɔmbɨst...</td>\n",
       "      <td>plisɡɔɔstɔwaɛskørɔtbrindijɛstiːnswiːtfɛlfondis...</td>\n",
       "    </tr>\n",
       "    <tr>\n",
       "      <th>2</th>\n",
       "      <td>{'bytes': b'RIFF\\xfeY\\n\\x00WAVEfmt \\x10\\x00\\x0...</td>\n",
       "      <td>finnish3.wav</td>\n",
       "      <td>plizkɔlstɪlʌæskhɹ̩tubɹɪŋðizθɪŋzwɪθhɹ̩fʌmðʌstoɔ...</td>\n",
       "      <td>pliːskɔwstɛlaaskɛ̃rt͡ɕbwindeːste̞ŋzwɨthalfamdɔ...</td>\n",
       "      <td>pliskɔɔstɛlaaskjat͡ɕbɻiɲdeːstɛŋkswɨtarfamdastɔ...</td>\n",
       "    </tr>\n",
       "    <tr>\n",
       "      <th>3</th>\n",
       "      <td>{'bytes': b'RIFF\\xf0\\xcf\\x0c\\x00WAVEfmt \\x10\\x...</td>\n",
       "      <td>finnish4.wav</td>\n",
       "      <td>pliskulstɪlɑskhaʊʌtsbɹɪŋðizθɪŋwɪθʌfɹʌmðʌstʊlsi...</td>\n",
       "      <td>pliskɔstɛlaskɛwat͡spriŋɡispiɲd͡ʑswɨɲaxɛfɔndɨst...</td>\n",
       "      <td>pliskɔstɛlaaskɛwat͡sbriŋvispiŋvswɨtawɛfɔndstɔs...</td>\n",
       "    </tr>\n",
       "    <tr>\n",
       "      <th>4</th>\n",
       "      <td>{'bytes': b'RIFF\\xb2~\\x0c\\x00WAVEfmt \\x10\\x00\\...</td>\n",
       "      <td>finnish5.wav</td>\n",
       "      <td>plizkɔlstɛlʌæskɹ̩ɾʌbɹɪŋðisθɪŋzwʌɹ̩fɹʌmʌstoʊɹsɪ...</td>\n",
       "      <td>plizkɑɔstɛlæskødbriŋðisteŋɡzøθøfɑmnæsitooɾsɨks...</td>\n",
       "      <td>pliːskɑstɛwaskørbriɲðistɛŋksæθørfɒmnɛɕtolsɨksp...</td>\n",
       "    </tr>\n",
       "  </tbody>\n",
       "</table>\n",
       "</div>"
      ],
      "text/plain": [
       "                                               audio      filename  \\\n",
       "0  {'bytes': b'RIFF\\xb6q\\x0c\\x00WAVEfmt \\x10\\x00\\...  finnish1.wav   \n",
       "1  {'bytes': b'RIFF$\\xc4\\t\\x00WAVEfmt \\x10\\x00\\x0...  finnish2.wav   \n",
       "2  {'bytes': b'RIFF\\xfeY\\n\\x00WAVEfmt \\x10\\x00\\x0...  finnish3.wav   \n",
       "3  {'bytes': b'RIFF\\xf0\\xcf\\x0c\\x00WAVEfmt \\x10\\x...  finnish4.wav   \n",
       "4  {'bytes': b'RIFF\\xb2~\\x0c\\x00WAVEfmt \\x10\\x00\\...  finnish5.wav   \n",
       "\n",
       "  ginic/data_seed_bs64_4_wav2vec2-large-xlsr-53-buckeye-ipa  \\\n",
       "0  plizkolstɪlʌæskhɹ̩tɪlpɹɪŋθizθɪŋzwizhɹ̩fɹʌmðɪst...          \n",
       "1  pliskuʊlstɪlʌæsɡoʌtʌbɹɪŋðisθɪŋzwɪtsoʊfʌmɪstoɹs...          \n",
       "2  plizkɔlstɪlʌæskhɹ̩tubɹɪŋðizθɪŋzwɪθhɹ̩fʌmðʌstoɔ...          \n",
       "3  pliskulstɪlɑskhaʊʌtsbɹɪŋðizθɪŋwɪθʌfɹʌmðʌstʊlsi...          \n",
       "4  plizkɔlstɛlʌæskɹ̩ɾʌbɹɪŋðisθɪŋzwʌɹ̩fɹʌmʌstoʊɹsɪ...          \n",
       "\n",
       "  ctaguchi/wav2vec2-large-xlsr-japlmthufielta-ipa1000-ns  \\\n",
       "0  pliskɔːstɛwaɛskxɔrtɔpʂɨɲtɨjstŋxujtxɔrfɔndɛʂtɔs...       \n",
       "1  plisɡɔɔfstɔwaaskøɛtbrindijɛstiɲɡzwitxɛlfɔmbɨst...       \n",
       "2  pliːskɔwstɛlaaskɛ̃rt͡ɕbwindeːste̞ŋzwɨthalfamdɔ...       \n",
       "3  pliskɔstɛlaskɛwat͡spriŋɡispiɲd͡ʑswɨɲaxɛfɔndɨst...       \n",
       "4  plizkɑɔstɛlæskødbriŋðisteŋɡzøθøfɑmnæsitooɾsɨks...       \n",
       "\n",
       "  ctaguchi/wav2vec2-large-xlsr-japlmthufielta-ipa-plus-2000  \n",
       "0  pliskɔstɛwaɛskxartɔprɨŋtistɨŋkswujtʂɛrfɔmdɛstɔ...         \n",
       "1  plisɡɔɔstɔwaɛskørɔtbrindijɛstiːnswiːtfɛlfondis...         \n",
       "2  pliskɔɔstɛlaaskjat͡ɕbɻiɲdeːstɛŋkswɨtarfamdastɔ...         \n",
       "3  pliskɔstɛlaaskɛwat͡sbriŋvispiŋvswɨtawɛfɔndstɔs...         \n",
       "4  pliːskɑstɛwaskørbriɲðistɛŋksæθørfɒmnɛɕtolsɨksp...         "
      ]
     },
     "execution_count": 5,
     "metadata": {},
     "output_type": "execute_result"
    }
   ],
   "source": [
    "audio_df = audio_dataset.to_pandas()\n",
    "audio_df = audio_df.rename(columns={\n",
    "    \"/home/vcpartridge_umass_edu/.cache/huggingface/hub/models--ctaguchi--wav2vec2-large-xlsr-japlmthufielta-ipa-plus-2000/snapshots/92cfe1211b01f9026ffca191c84ce06161926f45\":\"ctaguchi/wav2vec2-large-xlsr-japlmthufielta-ipa-plus-2000\"\n",
    "})\n",
    "audio_df.head()"
   ]
  },
  {
   "cell_type": "code",
   "execution_count": 6,
   "metadata": {},
   "outputs": [
    {
     "name": "stdout",
     "output_type": "stream",
     "text": [
      "Shape: (66, 3)\n"
     ]
    },
    {
     "name": "stderr",
     "output_type": "stream",
     "text": [
      "/tmp/ipykernel_108249/3568938660.py:4: FutureWarning: DataFrame.applymap has been deprecated. Use DataFrame.map instead.\n",
      "  gold_standard_df[[gmu_mod, gmu_og]] = gold_standard_df[[gmu_mod, gmu_og]].applymap(lambda x: \"\".join(x.split()))\n"
     ]
    },
    {
     "data": {
      "text/html": [
       "<div>\n",
       "<style scoped>\n",
       "    .dataframe tbody tr th:only-of-type {\n",
       "        vertical-align: middle;\n",
       "    }\n",
       "\n",
       "    .dataframe tbody tr th {\n",
       "        vertical-align: top;\n",
       "    }\n",
       "\n",
       "    .dataframe thead th {\n",
       "        text-align: right;\n",
       "    }\n",
       "</style>\n",
       "<table border=\"1\" class=\"dataframe\">\n",
       "  <thead>\n",
       "    <tr style=\"text-align: right;\">\n",
       "      <th></th>\n",
       "      <th>AudioFileName</th>\n",
       "      <th>GMU OG</th>\n",
       "      <th>GMU MOD</th>\n",
       "    </tr>\n",
       "  </thead>\n",
       "  <tbody>\n",
       "    <tr>\n",
       "      <th>0</th>\n",
       "      <td>finnish1.wav</td>\n",
       "      <td>pliz̥kɔlstɪləæ̝skhɜɹt̪ŭb̥ɹɪ̃ŋðisθɪ̃ŋz̥wɪθhɜɹf...</td>\n",
       "      <td>plizkɔlstɪlʌæskhɜɹtubɹɪ̃ŋðisθɪŋzwɪθhɜɹfɹʌ̃mðʌs...</td>\n",
       "    </tr>\n",
       "    <tr>\n",
       "      <th>1</th>\n",
       "      <td>finnish2.wav</td>\n",
       "      <td>pliːskɑlstɛləæ̝skɜtəbɹiŋd̪iztiŋswɪthɜfɹʌmðəstɔ...</td>\n",
       "      <td>pliskɑlstɛlʌæskɜtʌbɹiŋdiztiŋswɪthɜfɹʌmðʌstɔɹsɪ...</td>\n",
       "    </tr>\n",
       "    <tr>\n",
       "      <th>2</th>\n",
       "      <td>finnish3.wav</td>\n",
       "      <td>pʰliz̥kʰɔlstɛləæskhɚtŭbɹɪ̃ŋðiz̥θɪ̃ŋzwɪθhɚfɹʌ̃...</td>\n",
       "      <td>plizkɔlstɛlʌæskhɚtubɹɪ̃ŋðizθɪ̃ŋzwɪθhɹ̩fɹʌ̃mdʌs...</td>\n",
       "    </tr>\n",
       "    <tr>\n",
       "      <th>3</th>\n",
       "      <td>finnish4.wav</td>\n",
       "      <td>pʰliz̥kɔlstɛlăæskhɜtŭbɹɪ̃ŋd̪iz̥θɪ̃ŋswɪθhɜfɹʌ...</td>\n",
       "      <td>plizkɔlstɛlaæskhɜtubɹɪ̃ŋdizθɪ̃ŋswɪθhɜfɹʌ̃mdʌst...</td>\n",
       "    </tr>\n",
       "    <tr>\n",
       "      <th>4</th>\n",
       "      <td>finnish5.wav</td>\n",
       "      <td>pʰliz̥kʰɑlstɛləæskəɹɾəbɹɪ̃ŋðiz̥θɪ̃ŋz̥wɪθhɚfɹʌ̃...</td>\n",
       "      <td>plizkɑlstɛlʌæskʌɹɾʌbɹɪ̃ŋðizθɪ̃ŋzwɪθhɹ̩fɹʌ̃mðʌs...</td>\n",
       "    </tr>\n",
       "  </tbody>\n",
       "</table>\n",
       "</div>"
      ],
      "text/plain": [
       "  AudioFileName                                             GMU OG  \\\n",
       "0  finnish1.wav  pliz̥kɔlstɪləæ̝skhɜɹt̪ŭb̥ɹɪ̃ŋðisθɪ̃ŋz̥wɪθhɜɹf...   \n",
       "1  finnish2.wav  pliːskɑlstɛləæ̝skɜtəbɹiŋd̪iztiŋswɪthɜfɹʌmðəstɔ...   \n",
       "2  finnish3.wav  pʰliz̥kʰɔlstɛləæskhɚtŭbɹɪ̃ŋðiz̥θɪ̃ŋzwɪθhɚfɹʌ̃...   \n",
       "3  finnish4.wav  pʰliz̥kɔlstɛlăæskhɜtŭbɹɪ̃ŋd̪iz̥θɪ̃ŋswɪθhɜfɹʌ...   \n",
       "4  finnish5.wav  pʰliz̥kʰɑlstɛləæskəɹɾəbɹɪ̃ŋðiz̥θɪ̃ŋz̥wɪθhɚfɹʌ̃...   \n",
       "\n",
       "                                             GMU MOD  \n",
       "0  plizkɔlstɪlʌæskhɜɹtubɹɪ̃ŋðisθɪŋzwɪθhɜɹfɹʌ̃mðʌs...  \n",
       "1  pliskɑlstɛlʌæskɜtʌbɹiŋdiztiŋswɪthɜfɹʌmðʌstɔɹsɪ...  \n",
       "2  plizkɔlstɛlʌæskhɚtubɹɪ̃ŋðizθɪ̃ŋzwɪθhɹ̩fɹʌ̃mdʌs...  \n",
       "3  plizkɔlstɛlaæskhɜtubɹɪ̃ŋdizθɪ̃ŋswɪθhɜfɹʌ̃mdʌst...  \n",
       "4  plizkɑlstɛlʌæskʌɹɾʌbɹɪ̃ŋðizθɪ̃ŋzwɪθhɹ̩fɹʌ̃mðʌs...  "
      ]
     },
     "execution_count": 6,
     "metadata": {},
     "output_type": "execute_result"
    }
   ],
   "source": [
    "# Read and clean gold standard transcriptions\n",
    "gold_standard_df = pd.read_csv(transcriptions_path)\n",
    "print(\"Shape:\", gold_standard_df.shape)\n",
    "gold_standard_df[[gmu_mod, gmu_og]] = gold_standard_df[[gmu_mod, gmu_og]].applymap(lambda x: \"\".join(x.split()))\n",
    "gold_standard_df.head()\n"
   ]
  },
  {
   "cell_type": "code",
   "execution_count": 7,
   "metadata": {},
   "outputs": [
    {
     "data": {
      "text/html": [
       "<div>\n",
       "<style scoped>\n",
       "    .dataframe tbody tr th:only-of-type {\n",
       "        vertical-align: middle;\n",
       "    }\n",
       "\n",
       "    .dataframe tbody tr th {\n",
       "        vertical-align: top;\n",
       "    }\n",
       "\n",
       "    .dataframe thead th {\n",
       "        text-align: right;\n",
       "    }\n",
       "</style>\n",
       "<table border=\"1\" class=\"dataframe\">\n",
       "  <thead>\n",
       "    <tr style=\"text-align: right;\">\n",
       "      <th></th>\n",
       "      <th>AudioFileName</th>\n",
       "      <th>GMU OG</th>\n",
       "      <th>GMU MOD</th>\n",
       "      <th>ginic/data_seed_bs64_4_wav2vec2-large-xlsr-53-buckeye-ipa</th>\n",
       "      <th>ctaguchi/wav2vec2-large-xlsr-japlmthufielta-ipa1000-ns</th>\n",
       "      <th>ctaguchi/wav2vec2-large-xlsr-japlmthufielta-ipa-plus-2000</th>\n",
       "    </tr>\n",
       "  </thead>\n",
       "  <tbody>\n",
       "    <tr>\n",
       "      <th>0</th>\n",
       "      <td>finnish1.wav</td>\n",
       "      <td>pliz̥kɔlstɪləæ̝skhɜɹt̪ŭb̥ɹɪ̃ŋðisθɪ̃ŋz̥wɪθhɜɹf...</td>\n",
       "      <td>plizkɔlstɪlʌæskhɜɹtubɹɪ̃ŋðisθɪŋzwɪθhɜɹfɹʌ̃mðʌs...</td>\n",
       "      <td>plizkolstɪlʌæskhɹ̩tɪlpɹɪŋθizθɪŋzwizhɹ̩fɹʌmðɪst...</td>\n",
       "      <td>pliskɔːstɛwaɛskxɔrtɔpʂɨɲtɨjstŋxujtxɔrfɔndɛʂtɔs...</td>\n",
       "      <td>pliskɔstɛwaɛskxartɔprɨŋtistɨŋkswujtʂɛrfɔmdɛstɔ...</td>\n",
       "    </tr>\n",
       "    <tr>\n",
       "      <th>1</th>\n",
       "      <td>finnish2.wav</td>\n",
       "      <td>pliːskɑlstɛləæ̝skɜtəbɹiŋd̪iztiŋswɪthɜfɹʌmðəstɔ...</td>\n",
       "      <td>pliskɑlstɛlʌæskɜtʌbɹiŋdiztiŋswɪthɜfɹʌmðʌstɔɹsɪ...</td>\n",
       "      <td>pliskuʊlstɪlʌæsɡoʌtʌbɹɪŋðisθɪŋzwɪtsoʊfʌmɪstoɹs...</td>\n",
       "      <td>plisɡɔɔfstɔwaaskøɛtbrindijɛstiɲɡzwitxɛlfɔmbɨst...</td>\n",
       "      <td>plisɡɔɔstɔwaɛskørɔtbrindijɛstiːnswiːtfɛlfondis...</td>\n",
       "    </tr>\n",
       "    <tr>\n",
       "      <th>2</th>\n",
       "      <td>finnish3.wav</td>\n",
       "      <td>pʰliz̥kʰɔlstɛləæskhɚtŭbɹɪ̃ŋðiz̥θɪ̃ŋzwɪθhɚfɹʌ̃...</td>\n",
       "      <td>plizkɔlstɛlʌæskhɚtubɹɪ̃ŋðizθɪ̃ŋzwɪθhɹ̩fɹʌ̃mdʌs...</td>\n",
       "      <td>plizkɔlstɪlʌæskhɹ̩tubɹɪŋðizθɪŋzwɪθhɹ̩fʌmðʌstoɔ...</td>\n",
       "      <td>pliːskɔwstɛlaaskɛ̃rt͡ɕbwindeːste̞ŋzwɨthalfamdɔ...</td>\n",
       "      <td>pliskɔɔstɛlaaskjat͡ɕbɻiɲdeːstɛŋkswɨtarfamdastɔ...</td>\n",
       "    </tr>\n",
       "    <tr>\n",
       "      <th>3</th>\n",
       "      <td>finnish4.wav</td>\n",
       "      <td>pʰliz̥kɔlstɛlăæskhɜtŭbɹɪ̃ŋd̪iz̥θɪ̃ŋswɪθhɜfɹʌ...</td>\n",
       "      <td>plizkɔlstɛlaæskhɜtubɹɪ̃ŋdizθɪ̃ŋswɪθhɜfɹʌ̃mdʌst...</td>\n",
       "      <td>pliskulstɪlɑskhaʊʌtsbɹɪŋðizθɪŋwɪθʌfɹʌmðʌstʊlsi...</td>\n",
       "      <td>pliskɔstɛlaskɛwat͡spriŋɡispiɲd͡ʑswɨɲaxɛfɔndɨst...</td>\n",
       "      <td>pliskɔstɛlaaskɛwat͡sbriŋvispiŋvswɨtawɛfɔndstɔs...</td>\n",
       "    </tr>\n",
       "    <tr>\n",
       "      <th>4</th>\n",
       "      <td>finnish5.wav</td>\n",
       "      <td>pʰliz̥kʰɑlstɛləæskəɹɾəbɹɪ̃ŋðiz̥θɪ̃ŋz̥wɪθhɚfɹʌ̃...</td>\n",
       "      <td>plizkɑlstɛlʌæskʌɹɾʌbɹɪ̃ŋðizθɪ̃ŋzwɪθhɹ̩fɹʌ̃mðʌs...</td>\n",
       "      <td>plizkɔlstɛlʌæskɹ̩ɾʌbɹɪŋðisθɪŋzwʌɹ̩fɹʌmʌstoʊɹsɪ...</td>\n",
       "      <td>plizkɑɔstɛlæskødbriŋðisteŋɡzøθøfɑmnæsitooɾsɨks...</td>\n",
       "      <td>pliːskɑstɛwaskørbriɲðistɛŋksæθørfɒmnɛɕtolsɨksp...</td>\n",
       "    </tr>\n",
       "  </tbody>\n",
       "</table>\n",
       "</div>"
      ],
      "text/plain": [
       "  AudioFileName                                             GMU OG  \\\n",
       "0  finnish1.wav  pliz̥kɔlstɪləæ̝skhɜɹt̪ŭb̥ɹɪ̃ŋðisθɪ̃ŋz̥wɪθhɜɹf...   \n",
       "1  finnish2.wav  pliːskɑlstɛləæ̝skɜtəbɹiŋd̪iztiŋswɪthɜfɹʌmðəstɔ...   \n",
       "2  finnish3.wav  pʰliz̥kʰɔlstɛləæskhɚtŭbɹɪ̃ŋðiz̥θɪ̃ŋzwɪθhɚfɹʌ̃...   \n",
       "3  finnish4.wav  pʰliz̥kɔlstɛlăæskhɜtŭbɹɪ̃ŋd̪iz̥θɪ̃ŋswɪθhɜfɹʌ...   \n",
       "4  finnish5.wav  pʰliz̥kʰɑlstɛləæskəɹɾəbɹɪ̃ŋðiz̥θɪ̃ŋz̥wɪθhɚfɹʌ̃...   \n",
       "\n",
       "                                             GMU MOD  \\\n",
       "0  plizkɔlstɪlʌæskhɜɹtubɹɪ̃ŋðisθɪŋzwɪθhɜɹfɹʌ̃mðʌs...   \n",
       "1  pliskɑlstɛlʌæskɜtʌbɹiŋdiztiŋswɪthɜfɹʌmðʌstɔɹsɪ...   \n",
       "2  plizkɔlstɛlʌæskhɚtubɹɪ̃ŋðizθɪ̃ŋzwɪθhɹ̩fɹʌ̃mdʌs...   \n",
       "3  plizkɔlstɛlaæskhɜtubɹɪ̃ŋdizθɪ̃ŋswɪθhɜfɹʌ̃mdʌst...   \n",
       "4  plizkɑlstɛlʌæskʌɹɾʌbɹɪ̃ŋðizθɪ̃ŋzwɪθhɹ̩fɹʌ̃mðʌs...   \n",
       "\n",
       "  ginic/data_seed_bs64_4_wav2vec2-large-xlsr-53-buckeye-ipa  \\\n",
       "0  plizkolstɪlʌæskhɹ̩tɪlpɹɪŋθizθɪŋzwizhɹ̩fɹʌmðɪst...          \n",
       "1  pliskuʊlstɪlʌæsɡoʌtʌbɹɪŋðisθɪŋzwɪtsoʊfʌmɪstoɹs...          \n",
       "2  plizkɔlstɪlʌæskhɹ̩tubɹɪŋðizθɪŋzwɪθhɹ̩fʌmðʌstoɔ...          \n",
       "3  pliskulstɪlɑskhaʊʌtsbɹɪŋðizθɪŋwɪθʌfɹʌmðʌstʊlsi...          \n",
       "4  plizkɔlstɛlʌæskɹ̩ɾʌbɹɪŋðisθɪŋzwʌɹ̩fɹʌmʌstoʊɹsɪ...          \n",
       "\n",
       "  ctaguchi/wav2vec2-large-xlsr-japlmthufielta-ipa1000-ns  \\\n",
       "0  pliskɔːstɛwaɛskxɔrtɔpʂɨɲtɨjstŋxujtxɔrfɔndɛʂtɔs...       \n",
       "1  plisɡɔɔfstɔwaaskøɛtbrindijɛstiɲɡzwitxɛlfɔmbɨst...       \n",
       "2  pliːskɔwstɛlaaskɛ̃rt͡ɕbwindeːste̞ŋzwɨthalfamdɔ...       \n",
       "3  pliskɔstɛlaskɛwat͡spriŋɡispiɲd͡ʑswɨɲaxɛfɔndɨst...       \n",
       "4  plizkɑɔstɛlæskødbriŋðisteŋɡzøθøfɑmnæsitooɾsɨks...       \n",
       "\n",
       "  ctaguchi/wav2vec2-large-xlsr-japlmthufielta-ipa-plus-2000  \n",
       "0  pliskɔstɛwaɛskxartɔprɨŋtistɨŋkswujtʂɛrfɔmdɛstɔ...         \n",
       "1  plisɡɔɔstɔwaɛskørɔtbrindijɛstiːnswiːtfɛlfondis...         \n",
       "2  pliskɔɔstɛlaaskjat͡ɕbɻiɲdeːstɛŋkswɨtarfamdastɔ...         \n",
       "3  pliskɔstɛlaaskɛwat͡sbriŋvispiŋvswɨtawɛfɔndstɔs...         \n",
       "4  pliːskɑstɛwaskørbriɲðistɛŋksæθørfɒmnɛɕtolsɨksp...         "
      ]
     },
     "execution_count": 7,
     "metadata": {},
     "output_type": "execute_result"
    }
   ],
   "source": [
    "# Join results and gold standard on audio file name\n",
    "full_comparison_df = pd.merge(gold_standard_df, audio_df, left_on=\"AudioFileName\", right_on = \"filename\").drop(columns = [\"audio\", \"filename\"])\n",
    "full_comparison_df.head()"
   ]
  },
  {
   "cell_type": "code",
   "execution_count": 9,
   "metadata": {},
   "outputs": [],
   "source": [
    "# Compute performance metrics and write results\n",
    "for gold in [gmu_og, gmu_mod]:\n",
    "    model_eval = multipa.evaluate.ModelEvaluator()\n",
    "    for model in [our_model, taguchi_1k, \"ctaguchi/wav2vec2-large-xlsr-japlmthufielta-ipa-plus-2000\"]:\n",
    "        metrics = model_eval.eval_non_empty_transcriptions(model, full_comparison_df[model], full_comparison_df[gold])\n",
    "        for m in [\"phone_error_rates\", \"phone_feature_error_rates\", \"feature_error_rates\"]:\n",
    "            full_comparison_df[f\"{m} {gold} VS {model}\"] = metrics[m]\n",
    "    model_eval.to_csv(f\"{gold}_aggregate_results.csv\")\n",
    "\n",
    "full_comparison_df.to_csv(\"full_gmu_model_comparison.csv\", index=False)"
   ]
  }
 ],
 "metadata": {
  "kernelspec": {
   "display_name": "Python 3",
   "language": "python",
   "name": "python3"
  },
  "language_info": {
   "codemirror_mode": {
    "name": "ipython",
    "version": 3
   },
   "file_extension": ".py",
   "mimetype": "text/x-python",
   "name": "python",
   "nbconvert_exporter": "python",
   "pygments_lexer": "ipython3",
   "version": "3.11.10"
  }
 },
 "nbformat": 4,
 "nbformat_minor": 2
}

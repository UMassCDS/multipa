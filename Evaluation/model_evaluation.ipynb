{
 "cells": [
  {
   "cell_type": "markdown",
   "id": "16409b39",
   "metadata": {},
   "source": [
    "## Notebook to evaluate different models:\n",
    "- Ours Multipa\n",
    "- Ctaguchi Model\n",
    "- Allosaraus Model\n",
    "- ZIPA Model (Pending Env Issues and IceFall, K2 not on mac?)\n",
    "\n",
    "### Pending: Zipa Model"
   ]
  },
  {
   "cell_type": "markdown",
   "id": "53e93c94",
   "metadata": {},
   "source": [
    "### Additional installation step for Epitran\n",
    "\n",
    "```bash\n",
    "$ git clone http://github.com/festvox/flite\n",
    "$ cd flite\n",
    "$ ./configure && make\n",
    "$ sudo make install\n",
    "$ cd testsuite\n",
    "$ make lex_lookup\n",
    "$ sudo cp lex_lookup /usr/local/bin\n",
    "```"
   ]
  },
  {
   "cell_type": "code",
   "execution_count": 66,
   "id": "87390d6e",
   "metadata": {},
   "outputs": [],
   "source": [
    "from pathlib import Path\n",
    "from datasets import Audio, Dataset\n",
    "import pandas as pd\n",
    "from transformers import pipeline\n",
    "\n",
    "import allosaurus.app\n",
    "import allosaurus.bin.download_model\n",
    "\n",
    "import multipa\n",
    "import multipa.data_utils\n",
    "import multipa.evaluate\n",
    "\n",
    "import numpy as np\n",
    "import soundfile as sf\n",
    "import tempfile\n",
    "import torch\n",
    "\n",
    "device = -1  # -1 for CPU, or set GPU index if available\n",
    "\n",
    "# Paths For TIMIT Database and TIMIT IPA\n",
    "timit_data_dir = Path(\"/Users/parthbhangla/Desktop/Multipa_Datasets/TIMIT/COMPLETE\")\n",
    "transcriptions_path = Path(\"/Users/parthbhangla/Desktop/Multipa_Datasets/TIMIT/complete_ipa.csv\")\n",
    "\n",
    "# Models Evaluating\n",
    "our_model = \"ginic/data_seed_bs64_4_wav2vec2-large-xlsr-53-buckeye-ipa\"\n",
    "taguchi_1k = \"ctaguchi/wav2vec2-large-xlsr-japlmthufielta-ipa1000-ns\""
   ]
  },
  {
   "cell_type": "code",
   "execution_count": 67,
   "id": "e62ccc5f",
   "metadata": {},
   "outputs": [
    {
     "name": "stdout",
     "output_type": "stream",
     "text": [
      "Total WAV files found: 6300\n"
     ]
    }
   ],
   "source": [
    "timit_wavs = [p for p in timit_data_dir.rglob(\"*\") if p.suffix.lower() == \".wav\"]\n",
    "print(\"Total WAV files found:\", len(timit_wavs))\n",
    "\n",
    "data = [\n",
    "    {\"audio\": {\"path\": str(p)}, \"filename\": \"/\" + str(p.relative_to(timit_data_dir.parent)).lower()}\n",
    "    for p in timit_wavs\n",
    "]\n",
    "\n",
    "audio_dataset = Dataset.from_list(data)\n",
    "audio_dataset = audio_dataset.cast_column(\"audio\", Audio(sampling_rate=16_000))\n",
    "\n",
    "# Test with a small subset if wanted\n",
    "audio_subset = audio_dataset.select([i for i in list(range(10))])"
   ]
  },
  {
   "cell_type": "code",
   "execution_count": 68,
   "id": "f9a817c6",
   "metadata": {},
   "outputs": [],
   "source": [
    "def run_allosaurus(audio_dataset, model=\"eng2102\", phone_inventory=\"ipa\"):\n",
    "    print(f\"Running Allosaurus with model={model}, phone_inventory={phone_inventory}\")\n",
    "    recog = allosaurus.app.read_recognizer(model)\n",
    "    predictions = []\n",
    "\n",
    "    for f in audio_dataset[\"filename\"]:\n",
    "        wav_path = timit_data_dir.parent / f.lstrip(\"/\")\n",
    "\n",
    "        data, sr = sf.read(wav_path)\n",
    "        with tempfile.NamedTemporaryFile(suffix=\".wav\") as tmp:\n",
    "            sf.write(tmp.name, data, sr, format=\"WAV\", subtype=\"PCM_16\")\n",
    "            pred = recog.recognize(tmp.name, phone_inventory)\n",
    "\n",
    "        predictions.append(pred.replace(\" \", \"\"))\n",
    "\n",
    "    return predictions\n",
    "\n",
    "allosaurus.bin.download_model.download_model(\"eng2102\")"
   ]
  },
  {
   "cell_type": "code",
   "execution_count": 69,
   "id": "3b18c0b1",
   "metadata": {},
   "outputs": [
    {
     "name": "stdout",
     "output_type": "stream",
     "text": [
      "Running ASR for model: ginic/data_seed_bs64_4_wav2vec2-large-xlsr-53-buckeye-ipa\n",
      "Running ASR for model: ctaguchi/wav2vec2-large-xlsr-japlmthufielta-ipa1000-ns\n"
     ]
    },
    {
     "name": "stderr",
     "output_type": "stream",
     "text": [
      "Some weights of the model checkpoint at ctaguchi/wav2vec2-large-xlsr-japlmthufielta-ipa1000-ns were not used when initializing Wav2Vec2ForCTC: ['wav2vec2.encoder.pos_conv_embed.conv.weight_g', 'wav2vec2.encoder.pos_conv_embed.conv.weight_v']\n",
      "- This IS expected if you are initializing Wav2Vec2ForCTC from the checkpoint of a model trained on another task or with another architecture (e.g. initializing a BertForSequenceClassification model from a BertForPreTraining model).\n",
      "- This IS NOT expected if you are initializing Wav2Vec2ForCTC from the checkpoint of a model that you expect to be exactly identical (initializing a BertForSequenceClassification model from a BertForSequenceClassification model).\n",
      "Some weights of Wav2Vec2ForCTC were not initialized from the model checkpoint at ctaguchi/wav2vec2-large-xlsr-japlmthufielta-ipa1000-ns and are newly initialized: ['wav2vec2.encoder.pos_conv_embed.conv.parametrizations.weight.original0', 'wav2vec2.encoder.pos_conv_embed.conv.parametrizations.weight.original1']\n",
      "You should probably TRAIN this model on a down-stream task to be able to use it for predictions and inference.\n"
     ]
    }
   ],
   "source": [
    "models = [our_model, taguchi_1k]\n",
    "\n",
    "for model_name in models:\n",
    "    print(f\"Running ASR for model: {model_name}\")\n",
    "    \n",
    "    asr_pipe = pipeline(\"automatic-speech-recognition\", model=model_name, device=device)\n",
    "    \n",
    "    predictions = asr_pipe(audio_subset[\"audio\"])\n",
    "    \n",
    "    cleaned_predictions = [\n",
    "        multipa.data_utils.clean_text(x, is_remove_space=True, text_key=\"text\")[\"text\"]\n",
    "        for x in predictions\n",
    "    ]\n",
    "\n",
    "    audio_subset = audio_subset.add_column(name=model_name, column=cleaned_predictions)"
   ]
  },
  {
   "cell_type": "code",
   "execution_count": 70,
   "id": "b34aa406",
   "metadata": {},
   "outputs": [
    {
     "name": "stdout",
     "output_type": "stream",
     "text": [
      "Running Allosaurus with model=eng2102, phone_inventory=ipa\n"
     ]
    },
    {
     "name": "stderr",
     "output_type": "stream",
     "text": [
      "/Users/parthbhangla/miniconda3/envs/multipa/lib/python3.10/site-packages/allosaurus/am/utils.py:18: FutureWarning: You are using `torch.load` with `weights_only=False` (the current default value), which uses the default pickle module implicitly. It is possible to construct malicious pickle data which will execute arbitrary code during unpickling (See https://github.com/pytorch/pytorch/blob/main/SECURITY.md#untrusted-models for more details). In a future release, the default value for `weights_only` will be flipped to `True`. This limits the functions that could be executed during unpickling. Arbitrary objects will no longer be allowed to be loaded via this mode unless they are explicitly allowlisted by the user via `torch.serialization.add_safe_globals`. We recommend you start setting `weights_only=True` for any use case where you don't have full control of the loaded file. Please open an issue on GitHub for any issues related to this experimental feature.\n",
      "  model_state_dict = torch.load(str(path), map_location=torch.device('cpu'))\n"
     ]
    }
   ],
   "source": [
    "allosaurus_predictions = run_allosaurus(audio_subset, model=\"eng2102\", phone_inventory=\"ipa\")\n",
    "audio_subset = audio_subset.add_column(\"allosaurus_eng2102_ipa\", allosaurus_predictions)"
   ]
  },
  {
   "cell_type": "code",
   "execution_count": 71,
   "id": "2219485c",
   "metadata": {},
   "outputs": [
    {
     "name": "stderr",
     "output_type": "stream",
     "text": [
      "Map: 100%|██████████| 10/10 [00:00<00:00, 50.20 examples/s]\n"
     ]
    },
    {
     "name": "stdout",
     "output_type": "stream",
     "text": [
      "                         filename  \\\n",
      "0     /complete/dr4/mmdm0/sa1.wav   \n",
      "1     /complete/dr4/mmdm0/sa2.wav   \n",
      "2  /complete/dr4/mmdm0/si1311.wav   \n",
      "3  /complete/dr4/mmdm0/si1941.wav   \n",
      "4   /complete/dr4/mmdm0/si681.wav   \n",
      "\n",
      "                                           clean_ipa  \\\n",
      "0                   ʃiædjɚdɑɹksʉɾɨngɹiziwɔʃwɑɾɚɔljɪɹ   \n",
      "1                     doʊɾ̃æsmiɾɨkɪɹiɛɾ̃ɔliɹæglʌkðæt   \n",
      "2  sɔlɹidɛpɨzɪʃɨnɨzɨvɑjuweɪɾɨdbaɪwɔʃɨŋklinswɑtʃɨz...   \n",
      "3                                wl̩tɔkoʊvɚɨtjɝɑfə̥s   \n",
      "4                     wɨdsʌtʃɨnæktɨvɹɨfjʉʒl̩bijʉsfl̩   \n",
      "\n",
      "  ginic/data_seed_bs64_4_wav2vec2-large-xlsr-53-buckeye-ipa  \\\n",
      "0                ʃiædjɹ̩dɑɹksuɾɪnɡɹiziwʌʃwɑɾɹ̩aʊljiɹ          \n",
      "1                   doʊɾ̃æskmiɾɪkɛɹiɛnoʊliɹæɡlaɪkðæʔ          \n",
      "2  soʊlɹidɛpʊzɪʃɪnhɪzɪvæjueɪɾɪdbaɪwɑʃɪŋklinswɑtʃɪ...          \n",
      "3                                wʊltɔkoʊvɹ̩ɪtjɹ̩fɪs          \n",
      "4                     wɪθsʌtʃɪnæktʌvɹɪfjuzl̩bijusfl̩          \n",
      "\n",
      "  ctaguchi/wav2vec2-large-xlsr-japlmthufielta-ipa1000-ns  \\\n",
      "0                  ɕiærjydɑːkjsɯyringɻiziwɑʃwɑrɑojiː       \n",
      "1                     nooneːsmirukeɻienɒlujɻæːɡlɛkte       \n",
      "2  soːriɾɛpɨzɨɕione̞zɯvaːjuweɾibawɔɕinklɔinswɔt͡ɕ...       \n",
      "3                                ultaːkɒuvidjøraːfɨs       \n",
      "4                       wɨtsat͡ɕinaktɨrɨfizo̞bɨjusfo       \n",
      "\n",
      "                              allosaurus_eng2102_ipa  \n",
      "0                 ʃiædjɔdɑɹksutɪnɡɹeiziwɑʃwɔtɹ̩ɔljɪɹ  \n",
      "1                     dɑnæsktmitəkæɹiɪnowliɹɛɡlɛkðæt  \n",
      "2  sɑɹidɛpəzɪʃənɪzɪvæljuejtɪdbajwɑʃɪŋklejmswɑt͡ʃə...  \n",
      "3                               wɛltɔkowvɹ̩ɪtjʊɹɔfəs  \n",
      "4                    wɪðsʌt͡ʃænæktʌvɹəfjuzəlbijusfəl  \n",
      "Merged dataset saved to /Users/parthbhangla/Desktop/Notes_Multipa/multipa/Evaluation/timit_subset_with_actual_and_predictions.csv\n"
     ]
    }
   ],
   "source": [
    "gold_standard_df = pd.read_csv(transcriptions_path)\n",
    "\n",
    "gold_standard_df[\"clean_ipa\"] = gold_standard_df[\"ipa_transcription\"].apply(\n",
    "    lambda x: \"\".join(str(x).split())\n",
    ")\n",
    "\n",
    "gold_standard_df[\"filename\"] = gold_standard_df[\"audio_filename\"].str.lower()\n",
    "\n",
    "audio_subset = audio_subset.map(lambda x: {**x, \"filename\": x[\"filename\"].lower()})\n",
    "\n",
    "predictions_df = audio_subset.to_pandas()\n",
    "\n",
    "full_comparison_df = pd.merge(\n",
    "    gold_standard_df,\n",
    "    predictions_df,\n",
    "    on=\"filename\"\n",
    ")\n",
    "\n",
    "full_comparison_df = full_comparison_df.drop(\n",
    "    columns=[\"audio_filename\", \"ipa_transcription\", \"audio\"]\n",
    ")\n",
    "\n",
    "full_comparison_df = full_comparison_df[[\n",
    "    \"filename\", \n",
    "    \"clean_ipa\", \n",
    "    \"ginic/data_seed_bs64_4_wav2vec2-large-xlsr-53-buckeye-ipa\", \n",
    "    \"ctaguchi/wav2vec2-large-xlsr-japlmthufielta-ipa1000-ns\",\n",
    "    \"allosaurus_eng2102_ipa\"\n",
    "]]\n",
    "\n",
    "print(full_comparison_df.head())\n",
    "\n",
    "output_path = Path(\"timit_subset_with_actual_and_predictions.csv\")\n",
    "full_comparison_df.to_csv(output_path, index=False)\n",
    "print(f\"Merged dataset saved to {output_path.resolve()}\")"
   ]
  },
  {
   "cell_type": "code",
   "execution_count": 72,
   "id": "3494be44",
   "metadata": {},
   "outputs": [
    {
     "name": "stdout",
     "output_type": "stream",
     "text": [
      "Dialect groups found: ['DR4']\n",
      "Evaluating model: ginic/data_seed_bs64_4_wav2vec2-large-xlsr-53-buckeye-ipa\n",
      "Evaluating model: ctaguchi/wav2vec2-large-xlsr-japlmthufielta-ipa1000-ns\n",
      "Evaluating model: allosaurus_eng2102_ipa\n",
      "Average evaluation metrics per model saved to timit_model_evaluation_summary.csv\n",
      "Dialect evaluation complete. Results saved to timit_dialect_model_comparison.csv\n"
     ]
    }
   ],
   "source": [
    "model_eval = multipa.evaluate.ModelEvaluator()\n",
    "gold_col = \"clean_ipa\"\n",
    "model_names = [our_model, taguchi_1k, \"allosaurus_eng2102_ipa\"]\n",
    "\n",
    "def extract_dialect(path_str):\n",
    "    path = Path(path_str)\n",
    "    parts = [p for p in path.parts if p.lower().startswith(\"dr\")]\n",
    "    return parts[0].upper() if parts else \"UNKNOWN\"\n",
    "\n",
    "full_comparison_df[\"dialect\"] = full_comparison_df[\"filename\"].apply(extract_dialect)\n",
    "print(\"Dialect groups found:\", full_comparison_df[\"dialect\"].unique())\n",
    "\n",
    "summary_data = {}\n",
    "dialect_results = []\n",
    "\n",
    "for model_name in model_names:\n",
    "    print(f\"Evaluating model: {model_name}\")\n",
    "    \n",
    "    predictions = full_comparison_df[model_name].tolist()\n",
    "    references = full_comparison_df[gold_col].tolist()\n",
    "    \n",
    "    metrics = model_eval.eval_non_empty_transcriptions(model_name, predictions, references)\n",
    "\n",
    "    for metric_name in [\"phone_error_rates\", \"phone_feature_error_rates\", \"feature_error_rates\"]:\n",
    "        col_name = f\"{metric_name} VS {model_name}\"\n",
    "        full_comparison_df[col_name] = metrics[metric_name]\n",
    "\n",
    "    summary_data[model_name] = {\n",
    "        metric_name: float(np.mean(metrics[metric_name]))\n",
    "        for metric_name in [\"phone_error_rates\", \"phone_feature_error_rates\", \"feature_error_rates\"]\n",
    "    }\n",
    "\n",
    "    for dialect, df_group in full_comparison_df.groupby(\"dialect\"):\n",
    "        result_row = {\n",
    "            \"dialect\": dialect,\n",
    "            \"model\": model_name,\n",
    "        }\n",
    "        for metric_name in [\"phone_error_rates\", \"phone_feature_error_rates\", \"feature_error_rates\"]:\n",
    "            col_name = f\"{metric_name} VS {model_name}\"\n",
    "            result_row[metric_name] = df_group[col_name].mean()\n",
    "        dialect_results.append(result_row)\n",
    "\n",
    "\n",
    "summary_df = pd.DataFrame(summary_data).T\n",
    "summary_df = summary_df[[\"phone_error_rates\", \"phone_feature_error_rates\", \"feature_error_rates\"]]\n",
    "summary_df = summary_df.reset_index()\n",
    "summary_df = summary_df.rename(columns={\"index\": \"model\"})\n",
    "summary_df.to_csv(\"timit_model_evaluation_summary.csv\", index=False)\n",
    "print(\"Average evaluation metrics per model saved to timit_model_evaluation_summary.csv\")\n",
    "\n",
    "\n",
    "dialect_summary_df = pd.DataFrame(dialect_results)\n",
    "dialect_summary_df.to_csv(\"timit_dialect_model_comparison.csv\", index=False)\n",
    "print(\"Dialect evaluation complete. Results saved to timit_dialect_model_comparison.csv\")"
   ]
  }
 ],
 "metadata": {
  "kernelspec": {
   "display_name": "multipa",
   "language": "python",
   "name": "python3"
  },
  "language_info": {
   "codemirror_mode": {
    "name": "ipython",
    "version": 3
   },
   "file_extension": ".py",
   "mimetype": "text/x-python",
   "name": "python",
   "nbconvert_exporter": "python",
   "pygments_lexer": "ipython3",
   "version": "3.10.18"
  }
 },
 "nbformat": 4,
 "nbformat_minor": 5
}
